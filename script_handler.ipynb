{
 "cells": [
  {
   "cell_type": "code",
   "execution_count": null,
   "metadata": {},
   "outputs": [
    {
     "name": "stdout",
     "output_type": "stream",
     "text": [
      "starting bot\n"
     ]
    }
   ],
   "source": [
    "#!/usr/bin/env python\n",
    "# -*- coding: utf-8 -*-\n",
    "# This program is dedicated to the public domain under the CC0 license.\n",
    "\n",
    "\"\"\"\n",
    "First, a few callback functions are defined. Then, those functions are passed to\n",
    "the Dispatcher and registered at their respective places.\n",
    "Then, the bot is started and runs until we press Ctrl-C on the command line.\n",
    "Usage:\n",
    "Example of a bot-user conversation using ConversationHandler.\n",
    "Send /start to initiate the conversation.\n",
    "Press Ctrl-C on the command line or send a signal to the process to stop the\n",
    "bot.\n",
    "\"\"\"\n",
    "\n",
    "import logging\n",
    "\n",
    "from telegram import (ReplyKeyboardMarkup, ReplyKeyboardRemove)\n",
    "from telegram.ext import (Updater, CommandHandler, MessageHandler, Filters,\n",
    "                          ConversationHandler)\n",
    "\n",
    "# Enable logging\n",
    "logging.basicConfig(format='%(asctime)s - %(name)s - %(levelname)s - %(message)s',\n",
    "                    level=logging.INFO)\n",
    "\n",
    "logger = logging.getLogger(__name__)\n",
    "\n",
    "\n",
    "def start(update, context):\n",
    "    update.message.reply_text('Hi!')\n",
    "\n",
    "\n",
    "def document(update, context):\n",
    "    document = update.message.document.get_file()\n",
    "    document.download(\"{}\".format(update.message.document[\"file_name\"]))\n",
    "    update.message.reply_text(\"{} downloaded successfully\".format(update.message.document[\"file_name\"])  \n",
    "                             )\n",
    "def error(update, context):\n",
    "    \"\"\"Log Errors caused by Updates.\"\"\"\n",
    "    logger.warning('Update \"%s\" caused error \"%s\"', update, context.error)\n",
    "    \n",
    "def echo(update, context):\n",
    "    \"\"\"Echo the user message.\"\"\"\n",
    "    update.message.reply_text(\"Bot is alive\")\n",
    "\n",
    "\n",
    "def main():\n",
    "    # Create the Updater and pass it your bot's token.\n",
    "    # Make sure to set use_context=True to use the new context based callbacks\n",
    "    # Post version 12 this will no longer be necessary\n",
    "    updater = Updater(\"960440218:AAHStDUNQmjVSSFGFNRmR37CoqntcEYLOUg\", use_context=True)\n",
    "\n",
    "    # Get the dispatcher to register handlers\n",
    "    dp = updater.dispatcher\n",
    "\n",
    "    # log all errors\n",
    "    dp.add_handler(MessageHandler(Filters.text, echo))\n",
    "    dp.add_handler(MessageHandler(Filters.document, document))\n",
    "    dp.add_error_handler(error)\n",
    "    \n",
    "    # Start the Bot\n",
    "    updater.start_polling()\n",
    "\n",
    "    # Run the bot until you press Ctrl-C or the process receives SIGINT,\n",
    "    # SIGTERM or SIGABRT. This should be used most of the time, since\n",
    "    # start_polling() is non-blocking and will stop the bot gracefully.\n",
    "    updater.idle()\n",
    "\n",
    "\n",
    "if __name__ == '__main__':\n",
    "    print(\"starting bot\")\n",
    "    main()\n"
   ]
  },
  {
   "cell_type": "code",
   "execution_count": null,
   "metadata": {},
   "outputs": [],
   "source": []
  },
  {
   "cell_type": "code",
   "execution_count": null,
   "metadata": {},
   "outputs": [],
   "source": []
  },
  {
   "cell_type": "code",
   "execution_count": null,
   "metadata": {},
   "outputs": [],
   "source": []
  },
  {
   "cell_type": "code",
   "execution_count": null,
   "metadata": {},
   "outputs": [],
   "source": []
  },
  {
   "cell_type": "code",
   "execution_count": null,
   "metadata": {},
   "outputs": [],
   "source": []
  }
 ],
 "metadata": {
  "kernelspec": {
   "display_name": "Python 3",
   "language": "python",
   "name": "python3"
  },
  "language_info": {
   "codemirror_mode": {
    "name": "ipython",
    "version": 3
   },
   "file_extension": ".py",
   "mimetype": "text/x-python",
   "name": "python",
   "nbconvert_exporter": "python",
   "pygments_lexer": "ipython3",
   "version": "3.6.4"
  }
 },
 "nbformat": 4,
 "nbformat_minor": 2
}
